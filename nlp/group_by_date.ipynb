{
 "cells": [
  {
   "cell_type": "code",
   "execution_count": 1,
   "id": "fd167b99",
   "metadata": {},
   "outputs": [],
   "source": [
    "import pandas as pd"
   ]
  },
  {
   "cell_type": "code",
   "execution_count": 19,
   "id": "785653af",
   "metadata": {},
   "outputs": [
    {
     "name": "stdout",
     "output_type": "stream",
     "text": [
      "                     created_at  \\\n",
      "0     2020-04-15 01:03:46+00:00   \n",
      "1     2020-06-25 06:20:06+00:00   \n",
      "2     2020-06-04 15:41:45+00:00   \n",
      "3     2020-07-03 19:39:35+00:00   \n",
      "4     2020-07-09 14:39:14+00:00   \n",
      "...                         ...   \n",
      "1295  2020-04-15 06:00:10+00:00   \n",
      "1296  2020-07-01 11:29:10+00:00   \n",
      "1297  2020-04-29 02:21:50+00:00   \n",
      "1298  2020-06-19 17:56:57+00:00   \n",
      "1299  2020-06-23 15:47:11+00:00   \n",
      "\n",
      "                                                   text sentiment  \n",
      "0     rt yo enter win 1 000 monarch tokens us stock ...  positive  \n",
      "1     srilanka surcharge fuel removed surcharge rs 2...  negative  \n",
      "2     net issuance increases fund fiscal programs gt...  positive  \n",
      "3     rt much amazon traffic served fastly ? help us...  positive  \n",
      "4     amd ryzen 4000 desktop cpus looking great trac...  positive  \n",
      "...                                                 ...       ...  \n",
      "1295  stocks back recovery room https co 6hvvlwwodu ...  positive  \n",
      "1296  rt breadth expanding last week discussion half...  positive  \n",
      "1297  rt rompas rajapalot big new camp rajapalot ave...   neutral  \n",
      "1298               aapl qqq top may https co inkwb0txus  positive  \n",
      "1299  glg partners lp short position hilton food gro...  negative  \n",
      "\n",
      "[1300 rows x 3 columns]\n"
     ]
    }
   ],
   "source": [
    "print(unpickled_labels)"
   ]
  },
  {
   "cell_type": "code",
   "execution_count": 47,
   "id": "dd87ed5f",
   "metadata": {},
   "outputs": [
    {
     "name": "stdout",
     "output_type": "stream",
     "text": [
      "created_at\n",
      "2020-04-09    1.179648\n",
      "2020-04-10    1.132353\n",
      "2020-04-11    1.097222\n",
      "2020-04-12    1.180180\n",
      "2020-04-13    1.149408\n",
      "                ...   \n",
      "2020-07-12    1.287879\n",
      "2020-07-13    1.297462\n",
      "2020-07-14    1.217054\n",
      "2020-07-15    1.322148\n",
      "2020-07-16    1.251758\n",
      "Name: labels, Length: 77, dtype: float64\n"
     ]
    }
   ],
   "source": [
    "unpickled_preds = pd.read_pickle(\"./predicted.pkl\")\n",
    "unpickled_labels = pd.read_pickle(\"../labelled.pkl\")\n",
    "\n",
    "unpickled_labels[[\"created_at\"]] = unpickled_labels[[\"created_at\"]].apply(pd.to_datetime)\n",
    "unpickled_labels['created_at'] = unpickled_labels['created_at'].dt.date\n",
    "\n",
    "unpickled_preds[[\"created_at\"]] = unpickled_preds[[\"created_at\"]].apply(pd.to_datetime)\n",
    "unpickled_preds['created_at'] = unpickled_preds['created_at'].dt.date\n",
    "\n",
    "unpickled_labels = unpickled_labels.rename(columns = {'sentiment': 'labels'})\n",
    "tran = {'negative':0, 'neutral':1, 'positive':2}\n",
    "\n",
    "unpickled_labels['labels'] = unpickled_labels['labels'].map(tran)\n",
    "    \n",
    "frames = [unpickled_labels, unpickled_preds]\n",
    "result = pd.concat(frames)\n",
    "\n",
    "group = result['labels'].groupby(result['created_at'])\n",
    "# grouped_preds = unpickled_preds['labels'].groupby(unpickled_preds['created_at'])\n",
    "# grouped_labels = unpickled_preds['labels'].groupby(unpickled_preds['created_at'])\n",
    "print(grouped.mean())\n",
    "grouped.mean().to_pickle('../by_date.pkl')"
   ]
  },
  {
   "cell_type": "code",
   "execution_count": 48,
   "id": "73f1966d",
   "metadata": {},
   "outputs": [
    {
     "data": {
      "text/plain": [
       "created_at\n",
       "2020-04-09    1.179648\n",
       "2020-04-10    1.132353\n",
       "2020-04-11    1.097222\n",
       "2020-04-12    1.180180\n",
       "2020-04-13    1.149408\n",
       "                ...   \n",
       "2020-07-12    1.287879\n",
       "2020-07-13    1.297462\n",
       "2020-07-14    1.217054\n",
       "2020-07-15    1.322148\n",
       "2020-07-16    1.251758\n",
       "Name: labels, Length: 77, dtype: float64"
      ]
     },
     "execution_count": 48,
     "metadata": {},
     "output_type": "execute_result"
    }
   ],
   "source": [
    "by_date = pd.read_pickle(\"../by_date.pkl\")\n",
    "by_date"
   ]
  },
  {
   "cell_type": "code",
   "execution_count": null,
   "id": "d03dee03",
   "metadata": {},
   "outputs": [],
   "source": []
  }
 ],
 "metadata": {
  "kernelspec": {
   "display_name": "conda_pytorch_p36",
   "language": "python",
   "name": "conda_pytorch_p36"
  },
  "language_info": {
   "codemirror_mode": {
    "name": "ipython",
    "version": 3
   },
   "file_extension": ".py",
   "mimetype": "text/x-python",
   "name": "python",
   "nbconvert_exporter": "python",
   "pygments_lexer": "ipython3",
   "version": "3.6.13"
  }
 },
 "nbformat": 4,
 "nbformat_minor": 5
}
