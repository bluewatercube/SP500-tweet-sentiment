{
 "cells": [
  {
   "cell_type": "code",
   "execution_count": 2,
   "id": "abf73530",
   "metadata": {},
   "outputs": [],
   "source": [
    "import pandas as pd"
   ]
  },
  {
   "cell_type": "code",
   "execution_count": 3,
   "id": "f5a57b1d",
   "metadata": {},
   "outputs": [],
   "source": [
    "sp_500 = pd.read_excel('sp_500.xlsx', engine='openpyxl')"
   ]
  },
  {
   "cell_type": "code",
   "execution_count": 4,
   "id": "679ac289",
   "metadata": {},
   "outputs": [],
   "source": [
    "sp_500.Date = pd.to_datetime(sp_500.Date)"
   ]
  },
  {
   "cell_type": "code",
   "execution_count": 5,
   "id": "8f4cfd60",
   "metadata": {},
   "outputs": [],
   "source": [
    "sp_500.drop(['High','Low','Adj Close**','Volume'],axis =1,inplace=True)\n",
    "sp_500 = sp_500.rename(columns={'Close*': 'close','Open': 'open','Date': 'date'})"
   ]
  },
  {
   "cell_type": "code",
   "execution_count": 6,
   "id": "4d1b505f",
   "metadata": {},
   "outputs": [],
   "source": [
    "sp_500.to_pickle(\"../../sp500.pkl\")"
   ]
  },
  {
   "cell_type": "code",
   "execution_count": null,
   "id": "5e1852f4",
   "metadata": {},
   "outputs": [],
   "source": []
  }
 ],
 "metadata": {
  "kernelspec": {
   "display_name": "conda_pytorch_p36",
   "language": "python",
   "name": "conda_pytorch_p36"
  },
  "language_info": {
   "codemirror_mode": {
    "name": "ipython",
    "version": 3
   },
   "file_extension": ".py",
   "mimetype": "text/x-python",
   "name": "python",
   "nbconvert_exporter": "python",
   "pygments_lexer": "ipython3",
   "version": "3.6.13"
  }
 },
 "nbformat": 4,
 "nbformat_minor": 5
}
